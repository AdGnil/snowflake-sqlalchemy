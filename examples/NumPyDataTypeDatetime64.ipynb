{
 "cells": [
  {
   "cell_type": "markdown",
   "metadata": {},
   "source": [
    "# Numpy Data Type Demo: datetime64\n",
    "\n",
    "This demonstrates datetime64 support. Add ``numpy=True`` to the connect string to enable the feature."
   ]
  },
  {
   "cell_type": "markdown",
   "metadata": {},
   "source": [
    "## Setup\n",
    "\n",
    "- Install Anaconda from https://www.continuum.io/downloads\n",
    "- Set the account name, user name and password to the environment variables to ``SF_ACCOUNT``, ``SF_USER`` and ``SF_PASSWORD``\n",
    "- Start Jupyter notebook\n",
    "```jupyter notebook```"
   ]
  },
  {
   "cell_type": "code",
   "execution_count": 1,
   "metadata": {
    "collapsed": true
   },
   "outputs": [],
   "source": [
    "import os\n",
    "account=os.getenv('SF_ACCOUNT')\n",
    "user=os.getenv('SF_USER')\n",
    "password=os.getenv('SF_PASSWORD')"
   ]
  },
  {
   "cell_type": "markdown",
   "metadata": {},
   "source": [
    "Set ``numpy=True`` in the connect string so that Python Connector fetches and converts TIMESTAMP data to ``datetime64`` numpy data type."
   ]
  },
  {
   "cell_type": "code",
   "execution_count": 2,
   "metadata": {
    "collapsed": true
   },
   "outputs": [],
   "source": [
    "from sqlalchemy import create_engine\n",
    "from snowflake.sqlalchemy import URL\n",
    "engine = create_engine(URL(\n",
    "    account=account,\n",
    "    user=user,\n",
    "    password=password,\n",
    "    database='testdb',\n",
    "    schema='public',\n",
    "    numpy=True,\n",
    "    ))"
   ]
  },
  {
   "cell_type": "code",
   "execution_count": 3,
   "metadata": {
    "collapsed": false
   },
   "outputs": [
    {
     "data": {
      "text/plain": [
       "<sqlalchemy.engine.result.ResultProxy at 0x7f5588ccf588>"
      ]
     },
     "execution_count": 3,
     "metadata": {},
     "output_type": "execute_result"
    }
   ],
   "source": [
    "engine.execute(\"\"\"\n",
    "CREATE OR REPLACE table TS_TABLE(\n",
    "    c1 timestamp,\n",
    "    c2 timestamp_ntz,\n",
    "    c3 timestamp_ltz,\n",
    "    c4 timestamp_tz)\n",
    "\"\"\")"
   ]
  },
  {
   "cell_type": "markdown",
   "metadata": {},
   "source": [
    "Snowflake supports ``TIMESTAMP(9)`` by default; nanosecond precision is supported."
   ]
  },
  {
   "cell_type": "code",
   "execution_count": 4,
   "metadata": {
    "collapsed": false
   },
   "outputs": [
    {
     "data": {
      "text/plain": [
       "<sqlalchemy.engine.result.ResultProxy at 0x7f555c61de80>"
      ]
     },
     "execution_count": 4,
     "metadata": {},
     "output_type": "execute_result"
    }
   ],
   "source": [
    "engine.execute(\"\"\"\n",
    "INSERT INTO TS_TABLE \n",
    "    select\n",
    "        current_timestamp(),\n",
    "        current_timestamp()::timestamp_ntz,\n",
    "        current_timestamp(),\n",
    "        '2016-06-20T12:34:56.123456789'\n",
    "\"\"\")"
   ]
  },
  {
   "cell_type": "code",
   "execution_count": 5,
   "metadata": {
    "collapsed": false
   },
   "outputs": [
    {
     "data": {
      "text/plain": [
       "[(numpy.datetime64('2016-06-21T17:52:11.782000000+0000'), numpy.datetime64('2016-06-21T17:52:11.782000000+0000'), numpy.datetime64('2016-06-21T17:52:11.782000000+0000'), numpy.datetime64('2016-06-20T12:34:56.123456789+0000'))]"
      ]
     },
     "execution_count": 5,
     "metadata": {},
     "output_type": "execute_result"
    }
   ],
   "source": [
    "engine.execute(\"SELECT * FROM TS_TABLE\").fetchall()"
   ]
  },
  {
   "cell_type": "code",
   "execution_count": 6,
   "metadata": {
    "collapsed": true
   },
   "outputs": [],
   "source": [
    "from pandas import DataFrame, Series\n",
    "import pandas as pd"
   ]
  },
  {
   "cell_type": "code",
   "execution_count": 7,
   "metadata": {
    "collapsed": true
   },
   "outputs": [],
   "source": [
    "df = pd.read_sql_query(\"SELECT * FROM TS_TABLE\", engine)"
   ]
  },
  {
   "cell_type": "code",
   "execution_count": 8,
   "metadata": {
    "collapsed": false
   },
   "outputs": [
    {
     "name": "stdout",
     "output_type": "stream",
     "text": [
      "<class 'pandas.core.frame.DataFrame'>\n",
      "RangeIndex: 1 entries, 0 to 0\n",
      "Data columns (total 4 columns):\n",
      "c1    1 non-null datetime64[ns]\n",
      "c2    1 non-null datetime64[ns]\n",
      "c3    1 non-null datetime64[ns]\n",
      "c4    1 non-null datetime64[ns]\n",
      "dtypes: datetime64[ns](4)\n",
      "memory usage: 112.0 bytes\n"
     ]
    }
   ],
   "source": [
    "df.info()"
   ]
  },
  {
   "cell_type": "code",
   "execution_count": 9,
   "metadata": {
    "collapsed": false
   },
   "outputs": [
    {
     "data": {
      "text/html": [
       "<div>\n",
       "<table border=\"1\" class=\"dataframe\">\n",
       "  <thead>\n",
       "    <tr style=\"text-align: right;\">\n",
       "      <th></th>\n",
       "      <th>c1</th>\n",
       "      <th>c2</th>\n",
       "      <th>c3</th>\n",
       "      <th>c4</th>\n",
       "    </tr>\n",
       "  </thead>\n",
       "  <tbody>\n",
       "    <tr>\n",
       "      <th>0</th>\n",
       "      <td>2016-06-21 17:52:11.782</td>\n",
       "      <td>2016-06-21 17:52:11.782</td>\n",
       "      <td>2016-06-21 17:52:11.782</td>\n",
       "      <td>2016-06-20 12:34:56.123456789</td>\n",
       "    </tr>\n",
       "  </tbody>\n",
       "</table>\n",
       "</div>"
      ],
      "text/plain": [
       "                       c1                      c2                      c3  \\\n",
       "0 2016-06-21 17:52:11.782 2016-06-21 17:52:11.782 2016-06-21 17:52:11.782   \n",
       "\n",
       "                             c4  \n",
       "0 2016-06-20 12:34:56.123456789  "
      ]
     },
     "execution_count": 9,
     "metadata": {},
     "output_type": "execute_result"
    }
   ],
   "source": [
    "df"
   ]
  },
  {
   "cell_type": "markdown",
   "metadata": {},
   "source": [
    "Notice c4's value is reserved up to nanoseconds."
   ]
  },
  {
   "cell_type": "code",
   "execution_count": 10,
   "metadata": {
    "collapsed": false
   },
   "outputs": [],
   "source": [
    "df2 = pd.read_sql_query(\"desc ts_table\", engine)"
   ]
  },
  {
   "cell_type": "code",
   "execution_count": 11,
   "metadata": {
    "collapsed": false
   },
   "outputs": [
    {
     "data": {
      "text/html": [
       "<div>\n",
       "<table border=\"1\" class=\"dataframe\">\n",
       "  <thead>\n",
       "    <tr style=\"text-align: right;\">\n",
       "      <th></th>\n",
       "      <th>name</th>\n",
       "      <th>type</th>\n",
       "      <th>kind</th>\n",
       "      <th>null?</th>\n",
       "      <th>default</th>\n",
       "      <th>primary key</th>\n",
       "      <th>unique key</th>\n",
       "      <th>check</th>\n",
       "      <th>expression</th>\n",
       "      <th>comment</th>\n",
       "    </tr>\n",
       "  </thead>\n",
       "  <tbody>\n",
       "    <tr>\n",
       "      <th>0</th>\n",
       "      <td>C1</td>\n",
       "      <td>TIMESTAMP_LTZ(9)</td>\n",
       "      <td>COLUMN</td>\n",
       "      <td>Y</td>\n",
       "      <td>None</td>\n",
       "      <td>N</td>\n",
       "      <td>N</td>\n",
       "      <td>None</td>\n",
       "      <td>None</td>\n",
       "      <td>None</td>\n",
       "    </tr>\n",
       "    <tr>\n",
       "      <th>1</th>\n",
       "      <td>C2</td>\n",
       "      <td>TIMESTAMP_NTZ(9)</td>\n",
       "      <td>COLUMN</td>\n",
       "      <td>Y</td>\n",
       "      <td>None</td>\n",
       "      <td>N</td>\n",
       "      <td>N</td>\n",
       "      <td>None</td>\n",
       "      <td>None</td>\n",
       "      <td>None</td>\n",
       "    </tr>\n",
       "    <tr>\n",
       "      <th>2</th>\n",
       "      <td>C3</td>\n",
       "      <td>TIMESTAMP_LTZ(9)</td>\n",
       "      <td>COLUMN</td>\n",
       "      <td>Y</td>\n",
       "      <td>None</td>\n",
       "      <td>N</td>\n",
       "      <td>N</td>\n",
       "      <td>None</td>\n",
       "      <td>None</td>\n",
       "      <td>None</td>\n",
       "    </tr>\n",
       "    <tr>\n",
       "      <th>3</th>\n",
       "      <td>C4</td>\n",
       "      <td>TIMESTAMP_TZ(9)</td>\n",
       "      <td>COLUMN</td>\n",
       "      <td>Y</td>\n",
       "      <td>None</td>\n",
       "      <td>N</td>\n",
       "      <td>N</td>\n",
       "      <td>None</td>\n",
       "      <td>None</td>\n",
       "      <td>None</td>\n",
       "    </tr>\n",
       "  </tbody>\n",
       "</table>\n",
       "</div>"
      ],
      "text/plain": [
       "  name              type    kind null? default primary key unique key check  \\\n",
       "0   C1  TIMESTAMP_LTZ(9)  COLUMN     Y    None           N          N  None   \n",
       "1   C2  TIMESTAMP_NTZ(9)  COLUMN     Y    None           N          N  None   \n",
       "2   C3  TIMESTAMP_LTZ(9)  COLUMN     Y    None           N          N  None   \n",
       "3   C4   TIMESTAMP_TZ(9)  COLUMN     Y    None           N          N  None   \n",
       "\n",
       "  expression comment  \n",
       "0       None    None  \n",
       "1       None    None  \n",
       "2       None    None  \n",
       "3       None    None  "
      ]
     },
     "execution_count": 11,
     "metadata": {},
     "output_type": "execute_result"
    }
   ],
   "source": [
    "df2"
   ]
  },
  {
   "cell_type": "code",
   "execution_count": 12,
   "metadata": {
    "collapsed": false
   },
   "outputs": [
    {
     "data": {
      "text/plain": [
       "0   2016-06-21 17:52:11.782\n",
       "Name: c1, dtype: datetime64[ns]"
      ]
     },
     "execution_count": 12,
     "metadata": {},
     "output_type": "execute_result"
    }
   ],
   "source": [
    "df.c1"
   ]
  },
  {
   "cell_type": "code",
   "execution_count": 13,
   "metadata": {
    "collapsed": false
   },
   "outputs": [
    {
     "data": {
      "text/plain": [
       "0   2016-06-20 12:34:56.123456789\n",
       "Name: c4, dtype: datetime64[ns]"
      ]
     },
     "execution_count": 13,
     "metadata": {},
     "output_type": "execute_result"
    }
   ],
   "source": [
    "df.c4"
   ]
  },
  {
   "cell_type": "code",
   "execution_count": null,
   "metadata": {
    "collapsed": true
   },
   "outputs": [],
   "source": []
  }
 ],
 "metadata": {
  "kernelspec": {
   "display_name": "Python 3",
   "language": "python",
   "name": "python3"
  },
  "language_info": {
   "codemirror_mode": {
    "name": "ipython",
    "version": 3
   },
   "file_extension": ".py",
   "mimetype": "text/x-python",
   "name": "python",
   "nbconvert_exporter": "python",
   "pygments_lexer": "ipython3",
   "version": "3.5.1"
  }
 },
 "nbformat": 4,
 "nbformat_minor": 0
}
