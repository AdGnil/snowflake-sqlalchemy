{
 "cells": [
  {
   "cell_type": "markdown",
   "metadata": {},
   "source": [
    "# iPython SQL Extension Demo\n",
    "This notebook shows how iPython SQL Extension works.\n",
    "\n",
    "\n",
    "## Setup\n",
    "\n",
    "- Install Anaconda from https://www.continuum.io/downloads\n",
    "- Install iPython SQL Extension\n",
    "<pre>\n",
    "pip install ipython-sql\n",
    "</pre>\n",
    "- Set the account name, user name and password to the environment variables to ``SF_ACCOUNT``, ``SF_USER`` and ``SF_PASSWORD``, respectively\n",
    "- Start Jupyter notebook\n",
    "<pre>\n",
    "jupyter notebook\n",
    "</pre>"
   ]
  },
  {
   "cell_type": "code",
   "execution_count": 1,
   "metadata": {
    "collapsed": false
   },
   "outputs": [
    {
     "name": "stderr",
     "output_type": "stream",
     "text": [
      "/home/stakeda/anaconda3/envs/t/lib/python3.5/site-packages/IPython/config.py:13: ShimWarning: The `IPython.config` package has been deprecated. You should import from traitlets.config instead.\n",
      "  \"You should import from traitlets.config instead.\", ShimWarning)\n",
      "/home/stakeda/anaconda3/envs/t/lib/python3.5/site-packages/IPython/utils/traitlets.py:5: UserWarning: IPython.utils.traitlets has moved to a top-level traitlets package.\n",
      "  warn(\"IPython.utils.traitlets has moved to a top-level traitlets package.\")\n"
     ]
    }
   ],
   "source": [
    "%load_ext sql"
   ]
  },
  {
   "cell_type": "code",
   "execution_count": 2,
   "metadata": {
    "collapsed": true
   },
   "outputs": [],
   "source": [
    "import os\n",
    "account=os.getenv('SF_ACCOUNT')\n",
    "user=os.getenv('SF_USER')\n",
    "password=os.getenv('SF_PASSWORD')"
   ]
  },
  {
   "cell_type": "code",
   "execution_count": 3,
   "metadata": {
    "collapsed": false
   },
   "outputs": [
    {
     "data": {
      "text/plain": [
       "'Connected: admin@testdb/public'"
      ]
     },
     "execution_count": 3,
     "metadata": {},
     "output_type": "execute_result"
    }
   ],
   "source": [
    "%sql snowflake://$user:$password@$account/testdb/public"
   ]
  },
  {
   "cell_type": "markdown",
   "metadata": {},
   "source": [
    "Now you can run any sql commands using %%sql extension. Enjoy!"
   ]
  },
  {
   "cell_type": "code",
   "execution_count": 4,
   "metadata": {
    "collapsed": false
   },
   "outputs": [
    {
     "name": "stdout",
     "output_type": "stream",
     "text": [
      "10 rows affected.\n"
     ]
    },
    {
     "data": {
      "text/html": [
       "<table>\n",
       "    <tr>\n",
       "        <th>userid</th>\n",
       "        <th>username</th>\n",
       "        <th>firstname</th>\n",
       "        <th>lastname</th>\n",
       "        <th>city</th>\n",
       "        <th>state</th>\n",
       "        <th>email</th>\n",
       "        <th>phone</th>\n",
       "        <th>likesports</th>\n",
       "        <th>liketheatre</th>\n",
       "        <th>likeconcerts</th>\n",
       "        <th>likejazz</th>\n",
       "        <th>likeclassical</th>\n",
       "        <th>likeopera</th>\n",
       "        <th>likerock</th>\n",
       "        <th>likevegas</th>\n",
       "        <th>likebroadway</th>\n",
       "        <th>likemusicals</th>\n",
       "    </tr>\n",
       "    <tr>\n",
       "        <td>1</td>\n",
       "        <td>JSG99FHE</td>\n",
       "        <td>Rafael</td>\n",
       "        <td>Taylor</td>\n",
       "        <td>Kent</td>\n",
       "        <td>WA</td>\n",
       "        <td>Etiam.laoreet.libero@sodalesMaurisblandit.edu</td>\n",
       "        <td>(664) 602-4412</td>\n",
       "        <td>True</td>\n",
       "        <td>True</td>\n",
       "        <td>None</td>\n",
       "        <td>False</td>\n",
       "        <td>True</td>\n",
       "        <td>None</td>\n",
       "        <td>None</td>\n",
       "        <td>True</td>\n",
       "        <td>False</td>\n",
       "        <td>True</td>\n",
       "    </tr>\n",
       "    <tr>\n",
       "        <td>2</td>\n",
       "        <td>PGL08LJI</td>\n",
       "        <td>Vladimir</td>\n",
       "        <td>Humphrey</td>\n",
       "        <td>Murfreesboro</td>\n",
       "        <td>SK</td>\n",
       "        <td>Suspendisse.tristique@nonnisiAenean.edu</td>\n",
       "        <td>(783) 492-1886</td>\n",
       "        <td>None</td>\n",
       "        <td>None</td>\n",
       "        <td>None</td>\n",
       "        <td>True</td>\n",
       "        <td>True</td>\n",
       "        <td>None</td>\n",
       "        <td>None</td>\n",
       "        <td>True</td>\n",
       "        <td>False</td>\n",
       "        <td>True</td>\n",
       "    </tr>\n",
       "    <tr>\n",
       "        <td>3</td>\n",
       "        <td>IFT66TXU</td>\n",
       "        <td>Lars</td>\n",
       "        <td>Ratliff</td>\n",
       "        <td>High Point</td>\n",
       "        <td>ME</td>\n",
       "        <td>amet.faucibus.ut@condimentumegetvolutpat.ca</td>\n",
       "        <td>(624) 767-2465</td>\n",
       "        <td>True</td>\n",
       "        <td>False</td>\n",
       "        <td>None</td>\n",
       "        <td>False</td>\n",
       "        <td>None</td>\n",
       "        <td>False</td>\n",
       "        <td>True</td>\n",
       "        <td>None</td>\n",
       "        <td>None</td>\n",
       "        <td>True</td>\n",
       "    </tr>\n",
       "    <tr>\n",
       "        <td>4</td>\n",
       "        <td>XDZ38RDD</td>\n",
       "        <td>Barry</td>\n",
       "        <td>Roy</td>\n",
       "        <td>Omaha</td>\n",
       "        <td>AB</td>\n",
       "        <td>sed@lacusUtnec.ca</td>\n",
       "        <td>(355) 452-8168</td>\n",
       "        <td>False</td>\n",
       "        <td>True</td>\n",
       "        <td>None</td>\n",
       "        <td>False</td>\n",
       "        <td>None</td>\n",
       "        <td>None</td>\n",
       "        <td>None</td>\n",
       "        <td>None</td>\n",
       "        <td>None</td>\n",
       "        <td>False</td>\n",
       "    </tr>\n",
       "    <tr>\n",
       "        <td>5</td>\n",
       "        <td>AEB55QTM</td>\n",
       "        <td>Reagan</td>\n",
       "        <td>Hodge</td>\n",
       "        <td>Forest Lake</td>\n",
       "        <td>NS</td>\n",
       "        <td>Cum@accumsan.com</td>\n",
       "        <td>(476) 519-9131</td>\n",
       "        <td>None</td>\n",
       "        <td>None</td>\n",
       "        <td>True</td>\n",
       "        <td>False</td>\n",
       "        <td>None</td>\n",
       "        <td>None</td>\n",
       "        <td>True</td>\n",
       "        <td>True</td>\n",
       "        <td>False</td>\n",
       "        <td>True</td>\n",
       "    </tr>\n",
       "    <tr>\n",
       "        <td>6</td>\n",
       "        <td>NDQ15VBM</td>\n",
       "        <td>Victor</td>\n",
       "        <td>Hernandez</td>\n",
       "        <td>Naperville</td>\n",
       "        <td>GA</td>\n",
       "        <td>turpis@accumsanlaoreet.org</td>\n",
       "        <td>(818) 765-4255</td>\n",
       "        <td>False</td>\n",
       "        <td>None</td>\n",
       "        <td>None</td>\n",
       "        <td>True</td>\n",
       "        <td>None</td>\n",
       "        <td>True</td>\n",
       "        <td>True</td>\n",
       "        <td>True</td>\n",
       "        <td>True</td>\n",
       "        <td>True</td>\n",
       "    </tr>\n",
       "    <tr>\n",
       "        <td>7</td>\n",
       "        <td>OWY35QYB</td>\n",
       "        <td>Tamekah</td>\n",
       "        <td>Juarez</td>\n",
       "        <td>Moultrie</td>\n",
       "        <td>WV</td>\n",
       "        <td>elementum@semperpretiumneque.ca</td>\n",
       "        <td>(297) 875-7247</td>\n",
       "        <td>None</td>\n",
       "        <td>None</td>\n",
       "        <td>None</td>\n",
       "        <td>True</td>\n",
       "        <td>True</td>\n",
       "        <td>False</td>\n",
       "        <td>None</td>\n",
       "        <td>None</td>\n",
       "        <td>False</td>\n",
       "        <td>False</td>\n",
       "    </tr>\n",
       "    <tr>\n",
       "        <td>8</td>\n",
       "        <td>AZG78YIP</td>\n",
       "        <td>Colton</td>\n",
       "        <td>Roy</td>\n",
       "        <td>Guayama</td>\n",
       "        <td>AK</td>\n",
       "        <td>ullamcorper.nisl@Cras.edu</td>\n",
       "        <td>(998) 934-9210</td>\n",
       "        <td>None</td>\n",
       "        <td>None</td>\n",
       "        <td>True</td>\n",
       "        <td>True</td>\n",
       "        <td>None</td>\n",
       "        <td>True</td>\n",
       "        <td>False</td>\n",
       "        <td>None</td>\n",
       "        <td>False</td>\n",
       "        <td>False</td>\n",
       "    </tr>\n",
       "    <tr>\n",
       "        <td>9</td>\n",
       "        <td>MSD36KVR</td>\n",
       "        <td>Mufutau</td>\n",
       "        <td>Watkins</td>\n",
       "        <td>Port Orford</td>\n",
       "        <td>MD</td>\n",
       "        <td>Integer.mollis.Integer@tristiquealiquet.org</td>\n",
       "        <td>(725) 719-7670</td>\n",
       "        <td>True</td>\n",
       "        <td>False</td>\n",
       "        <td>None</td>\n",
       "        <td>False</td>\n",
       "        <td>True</td>\n",
       "        <td>None</td>\n",
       "        <td>None</td>\n",
       "        <td>None</td>\n",
       "        <td>False</td>\n",
       "        <td>True</td>\n",
       "    </tr>\n",
       "    <tr>\n",
       "        <td>10</td>\n",
       "        <td>WKW41AIW</td>\n",
       "        <td>Naida</td>\n",
       "        <td>Calderon</td>\n",
       "        <td>Waterbury</td>\n",
       "        <td>MB</td>\n",
       "        <td>Donec.fringilla@sodalesat.org</td>\n",
       "        <td>(197) 726-8249</td>\n",
       "        <td>False</td>\n",
       "        <td>False</td>\n",
       "        <td>False</td>\n",
       "        <td>None</td>\n",
       "        <td>False</td>\n",
       "        <td>True</td>\n",
       "        <td>None</td>\n",
       "        <td>True</td>\n",
       "        <td>None</td>\n",
       "        <td>None</td>\n",
       "    </tr>\n",
       "</table>"
      ],
      "text/plain": [
       "[(1, 'JSG99FHE', 'Rafael', 'Taylor', 'Kent', 'WA', 'Etiam.laoreet.libero@sodalesMaurisblandit.edu', '(664) 602-4412', True, True, None, False, True, None, None, True, False, True),\n",
       " (2, 'PGL08LJI', 'Vladimir', 'Humphrey', 'Murfreesboro', 'SK', 'Suspendisse.tristique@nonnisiAenean.edu', '(783) 492-1886', None, None, None, True, True, None, None, True, False, True),\n",
       " (3, 'IFT66TXU', 'Lars', 'Ratliff', 'High Point', 'ME', 'amet.faucibus.ut@condimentumegetvolutpat.ca', '(624) 767-2465', True, False, None, False, None, False, True, None, None, True),\n",
       " (4, 'XDZ38RDD', 'Barry', 'Roy', 'Omaha', 'AB', 'sed@lacusUtnec.ca', '(355) 452-8168', False, True, None, False, None, None, None, None, None, False),\n",
       " (5, 'AEB55QTM', 'Reagan', 'Hodge', 'Forest Lake', 'NS', 'Cum@accumsan.com', '(476) 519-9131', None, None, True, False, None, None, True, True, False, True),\n",
       " (6, 'NDQ15VBM', 'Victor', 'Hernandez', 'Naperville', 'GA', 'turpis@accumsanlaoreet.org', '(818) 765-4255', False, None, None, True, None, True, True, True, True, True),\n",
       " (7, 'OWY35QYB', 'Tamekah', 'Juarez', 'Moultrie', 'WV', 'elementum@semperpretiumneque.ca', '(297) 875-7247', None, None, None, True, True, False, None, None, False, False),\n",
       " (8, 'AZG78YIP', 'Colton', 'Roy', 'Guayama', 'AK', 'ullamcorper.nisl@Cras.edu', '(998) 934-9210', None, None, True, True, None, True, False, None, False, False),\n",
       " (9, 'MSD36KVR', 'Mufutau', 'Watkins', 'Port Orford', 'MD', 'Integer.mollis.Integer@tristiquealiquet.org', '(725) 719-7670', True, False, None, False, True, None, None, None, False, True),\n",
       " (10, 'WKW41AIW', 'Naida', 'Calderon', 'Waterbury', 'MB', 'Donec.fringilla@sodalesat.org', '(197) 726-8249', False, False, False, None, False, True, None, True, None, None)]"
      ]
     },
     "execution_count": 4,
     "metadata": {},
     "output_type": "execute_result"
    }
   ],
   "source": [
    "%%sql\n",
    "    select * from users limit 10"
   ]
  },
  {
   "cell_type": "code",
   "execution_count": null,
   "metadata": {
    "collapsed": true
   },
   "outputs": [],
   "source": []
  }
 ],
 "metadata": {
  "kernelspec": {
   "display_name": "Python 3",
   "language": "python",
   "name": "python3"
  },
  "language_info": {
   "codemirror_mode": {
    "name": "ipython",
    "version": 3
   },
   "file_extension": ".py",
   "mimetype": "text/x-python",
   "name": "python",
   "nbconvert_exporter": "python",
   "pygments_lexer": "ipython3",
   "version": "3.5.1"
  }
 },
 "nbformat": 4,
 "nbformat_minor": 0
}
